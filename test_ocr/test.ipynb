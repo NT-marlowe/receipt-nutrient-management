{
 "cells": [
  {
   "cell_type": "code",
   "execution_count": 19,
   "metadata": {},
   "outputs": [
    {
     "name": "stdout",
     "output_type": "stream",
     "text": [
      "b'iVBORw0K\n"
     ]
    }
   ],
   "source": [
    "import base64\n",
    "\n",
    "with open(\"sample.png\", 'br') as f:\n",
    "  b64_img = base64.b64encode(f.read())\n",
    "  print(str(b64_img)[:10])"
   ]
  },
  {
   "cell_type": "code",
   "execution_count": 20,
   "metadata": {},
   "outputs": [],
   "source": [
    "with open (\"base64.txt\", \"w\") as f:\n",
    "  f.write(str(b64_img).replace('b\\'', ''))"
   ]
  },
  {
   "cell_type": "code",
   "execution_count": 21,
   "metadata": {},
   "outputs": [
    {
     "name": "stdout",
     "output_type": "stream",
     "text": [
      "iVBORw0KGg\n"
     ]
    }
   ],
   "source": [
    "with open('base64.txt', 'r') as f:\n",
    "  data = f.read()\n",
    "  print(data[:10])"
   ]
  },
  {
   "cell_type": "code",
   "execution_count": 22,
   "metadata": {},
   "outputs": [],
   "source": [
    "img = base64.b64decode(data.encode())\n",
    "with open('decode_sample.png', 'wb') as f:\n",
    "  f.write(img)"
   ]
  },
  {
   "cell_type": "code",
   "execution_count": null,
   "metadata": {},
   "outputs": [],
   "source": []
  }
 ],
 "metadata": {
  "interpreter": {
   "hash": "b55e43580d135ce726dd9816bc791cd736a101dde178775bc7a3fb3f34d526e2"
  },
  "kernelspec": {
   "display_name": "Python 3.10.2 ('.venv': venv)",
   "language": "python",
   "name": "python3"
  },
  "language_info": {
   "codemirror_mode": {
    "name": "ipython",
    "version": 3
   },
   "file_extension": ".py",
   "mimetype": "text/x-python",
   "name": "python",
   "nbconvert_exporter": "python",
   "pygments_lexer": "ipython3",
   "version": "3.10.2"
  },
  "orig_nbformat": 4
 },
 "nbformat": 4,
 "nbformat_minor": 2
}
